{
 "cells": [
  {
   "cell_type": "code",
   "execution_count": 24,
   "id": "36bc65d9-01e6-478c-a372-b7ee56bce2a7",
   "metadata": {},
   "outputs": [],
   "source": [
    "import pandas as pd\n",
    "import openpyxl\n",
    "import ast\n",
    "import re"
   ]
  },
  {
   "cell_type": "code",
   "execution_count": 25,
   "id": "7d73cc71-e035-4394-8eda-5288a1682221",
   "metadata": {},
   "outputs": [
    {
     "data": {
      "text/html": [
       "<div>\n",
       "<style scoped>\n",
       "    .dataframe tbody tr th:only-of-type {\n",
       "        vertical-align: middle;\n",
       "    }\n",
       "\n",
       "    .dataframe tbody tr th {\n",
       "        vertical-align: top;\n",
       "    }\n",
       "\n",
       "    .dataframe thead th {\n",
       "        text-align: right;\n",
       "    }\n",
       "</style>\n",
       "<table border=\"1\" class=\"dataframe\">\n",
       "  <thead>\n",
       "    <tr style=\"text-align: right;\">\n",
       "      <th></th>\n",
       "      <th>Candidates</th>\n",
       "    </tr>\n",
       "  </thead>\n",
       "  <tbody>\n",
       "    <tr>\n",
       "      <th>0</th>\n",
       "      <td>[['Adv. K. C. Padavi', 'INC', 82770, 42.3, '-'...</td>\n",
       "    </tr>\n",
       "    <tr>\n",
       "      <th>1</th>\n",
       "      <td>[['Rajesh Udesing Padvi', 'BJP', 94931, 45.9, ...</td>\n",
       "    </tr>\n",
       "    <tr>\n",
       "      <th>2</th>\n",
       "      <td>[['Vijaykumar Krushnarao Gavit', 'BJP', 121605...</td>\n",
       "    </tr>\n",
       "    <tr>\n",
       "      <th>3</th>\n",
       "      <td>[['Naik Shirishkumar Surupsing', 'INC', 74652,...</td>\n",
       "    </tr>\n",
       "    <tr>\n",
       "      <th>4</th>\n",
       "      <td>[['Manjula Tulshiram Gavit', 'IND', 76166, 37....</td>\n",
       "    </tr>\n",
       "    <tr>\n",
       "      <th>...</th>\n",
       "      <td>...</td>\n",
       "    </tr>\n",
       "    <tr>\n",
       "      <th>283</th>\n",
       "      <td>[['Mansing Fattesingrao Naik', 'NCP', 101933, ...</td>\n",
       "    </tr>\n",
       "    <tr>\n",
       "      <th>284</th>\n",
       "      <td>[['Kadam Vishwajeet Patangrao', 'INC', 171497,...</td>\n",
       "    </tr>\n",
       "    <tr>\n",
       "      <th>285</th>\n",
       "      <td>[['Anilbhau Babar', 'SHS', 116974, 54.7, '-'],...</td>\n",
       "    </tr>\n",
       "    <tr>\n",
       "      <th>286</th>\n",
       "      <td>[['Sumanvahini R.R. (Aba) Patil', 'NCP', 12837...</td>\n",
       "    </tr>\n",
       "    <tr>\n",
       "      <th>287</th>\n",
       "      <td>[['Vikramsinh Balasaheb Sawant', 'INC', 87184,...</td>\n",
       "    </tr>\n",
       "  </tbody>\n",
       "</table>\n",
       "<p>288 rows × 1 columns</p>\n",
       "</div>"
      ],
      "text/plain": [
       "                                            Candidates\n",
       "0    [['Adv. K. C. Padavi', 'INC', 82770, 42.3, '-'...\n",
       "1    [['Rajesh Udesing Padvi', 'BJP', 94931, 45.9, ...\n",
       "2    [['Vijaykumar Krushnarao Gavit', 'BJP', 121605...\n",
       "3    [['Naik Shirishkumar Surupsing', 'INC', 74652,...\n",
       "4    [['Manjula Tulshiram Gavit', 'IND', 76166, 37....\n",
       "..                                                 ...\n",
       "283  [['Mansing Fattesingrao Naik', 'NCP', 101933, ...\n",
       "284  [['Kadam Vishwajeet Patangrao', 'INC', 171497,...\n",
       "285  [['Anilbhau Babar', 'SHS', 116974, 54.7, '-'],...\n",
       "286  [['Sumanvahini R.R. (Aba) Patil', 'NCP', 12837...\n",
       "287  [['Vikramsinh Balasaheb Sawant', 'INC', 87184,...\n",
       "\n",
       "[288 rows x 1 columns]"
      ]
     },
     "execution_count": 25,
     "metadata": {},
     "output_type": "execute_result"
    }
   ],
   "source": [
    "df = pd.read_excel('Candidates_RawData.xlsx', )\n",
    "df"
   ]
  },
  {
   "cell_type": "code",
   "execution_count": 26,
   "id": "99b1bd70-1753-4d9c-85c6-b988d1d180e9",
   "metadata": {},
   "outputs": [
    {
     "data": {
      "text/plain": [
       "\"[['Adv. K. C. Padavi', 'INC', 82770, 42.3, '-'], ['Aamshya Fulji Padavi', 'SHS', 80674, 41.2, '2,096 ( 1.1 %)'], ['Nagesh Dilvarsing Padvi', 'IND', 21664, 11.1, '61,106 ( 31.2 %)'], ['Adv. Kailas Pratapsing Vasave', 'AAP', 4055, 2.1, '78,715 ( 40.2 %)'], ['Bharat Jalya Pawara', 'IND', 3784, 1.9, '78,986 ( 40.4 %)']]\""
      ]
     },
     "execution_count": 26,
     "metadata": {},
     "output_type": "execute_result"
    }
   ],
   "source": [
    "df.Candidates[0]"
   ]
  },
  {
   "cell_type": "code",
   "execution_count": 29,
   "id": "07ec565c-d6da-4ffa-9719-d45f13334308",
   "metadata": {},
   "outputs": [],
   "source": [
    "df['parsed_data'] = df['Candidates'].apply(ast.literal_eval)\n",
    "\n",
    "all_data = pd.concat([pd.DataFrame(row) for row in df['parsed_data']], ignore_index=True)\n",
    "all_data.columns = ['Name', 'Party', 'Votes', 'Percentage', 'Margin']\n",
    "\n",
    "\n",
    "all_data['Margin'] = all_data['Margin'].str.replace(',', '').str.replace('%', '')\n",
    "\n",
    "\n",
    "all_data['Margin'] = all_data['Margin'].apply(lambda x: re.findall(r'\\d+', x)[0] if re.findall(r'\\d+', x) else x)\n",
    "\n",
    "\n",
    "all_data.replace('-', pd.NA, inplace=True)\n",
    "\n",
    "\n",
    "all_data['Votes'] = pd.to_numeric(all_data['Votes'], errors='coerce')\n",
    "all_data['Percentage'] = pd.to_numeric(all_data['Percentage'], errors='coerce')\n",
    "all_data['Margin'] = pd.to_numeric(all_data['Margin'], errors='coerce')\n",
    "\n",
    "\n",
    "all_data.to_excel('cleaned_data.xlsx', index=False) \n"
   ]
  }
 ],
 "metadata": {
  "kernelspec": {
   "display_name": "Python 3 (ipykernel)",
   "language": "python",
   "name": "python3"
  },
  "language_info": {
   "codemirror_mode": {
    "name": "ipython",
    "version": 3
   },
   "file_extension": ".py",
   "mimetype": "text/x-python",
   "name": "python",
   "nbconvert_exporter": "python",
   "pygments_lexer": "ipython3",
   "version": "3.12.4"
  }
 },
 "nbformat": 4,
 "nbformat_minor": 5
}
